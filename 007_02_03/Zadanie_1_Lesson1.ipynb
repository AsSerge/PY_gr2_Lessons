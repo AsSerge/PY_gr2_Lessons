{
 "cells": [
  {
   "cell_type": "markdown",
   "metadata": {},
   "source": [
    "<h1>Урок 1. Домашнее задание.</h1>\n",
    "Автор материала: Юрий Кашницкий, программист-исследователь Mail.Ru Group\n",
    "<br>Выполнил: Сергей Цветков группа <strong>PY_gr2</strong>"
   ]
  },
  {
   "cell_type": "code",
   "execution_count": 53,
   "metadata": {},
   "outputs": [
    {
     "data": {
      "text/html": [
       "<div>\n",
       "<style scoped>\n",
       "    .dataframe tbody tr th:only-of-type {\n",
       "        vertical-align: middle;\n",
       "    }\n",
       "\n",
       "    .dataframe tbody tr th {\n",
       "        vertical-align: top;\n",
       "    }\n",
       "\n",
       "    .dataframe thead th {\n",
       "        text-align: right;\n",
       "    }\n",
       "</style>\n",
       "<table border=\"1\" class=\"dataframe\">\n",
       "  <thead>\n",
       "    <tr style=\"text-align: right;\">\n",
       "      <th></th>\n",
       "      <th>age</th>\n",
       "      <th>workclass</th>\n",
       "      <th>fnlwgt</th>\n",
       "      <th>education</th>\n",
       "      <th>education-num</th>\n",
       "      <th>marital-status</th>\n",
       "      <th>occupation</th>\n",
       "      <th>relationship</th>\n",
       "      <th>race</th>\n",
       "      <th>sex</th>\n",
       "      <th>capital-gain</th>\n",
       "      <th>capital-loss</th>\n",
       "      <th>hours-per-week</th>\n",
       "      <th>native-country</th>\n",
       "      <th>salary</th>\n",
       "    </tr>\n",
       "  </thead>\n",
       "  <tbody>\n",
       "    <tr>\n",
       "      <th>0</th>\n",
       "      <td>39</td>\n",
       "      <td>State-gov</td>\n",
       "      <td>77516</td>\n",
       "      <td>Bachelors</td>\n",
       "      <td>13</td>\n",
       "      <td>Never-married</td>\n",
       "      <td>Adm-clerical</td>\n",
       "      <td>Not-in-family</td>\n",
       "      <td>White</td>\n",
       "      <td>Male</td>\n",
       "      <td>2174</td>\n",
       "      <td>0</td>\n",
       "      <td>40</td>\n",
       "      <td>United-States</td>\n",
       "      <td>&lt;=50K</td>\n",
       "    </tr>\n",
       "    <tr>\n",
       "      <th>1</th>\n",
       "      <td>50</td>\n",
       "      <td>Self-emp-not-inc</td>\n",
       "      <td>83311</td>\n",
       "      <td>Bachelors</td>\n",
       "      <td>13</td>\n",
       "      <td>Married-civ-spouse</td>\n",
       "      <td>Exec-managerial</td>\n",
       "      <td>Husband</td>\n",
       "      <td>White</td>\n",
       "      <td>Male</td>\n",
       "      <td>0</td>\n",
       "      <td>0</td>\n",
       "      <td>13</td>\n",
       "      <td>United-States</td>\n",
       "      <td>&lt;=50K</td>\n",
       "    </tr>\n",
       "    <tr>\n",
       "      <th>2</th>\n",
       "      <td>38</td>\n",
       "      <td>Private</td>\n",
       "      <td>215646</td>\n",
       "      <td>HS-grad</td>\n",
       "      <td>9</td>\n",
       "      <td>Divorced</td>\n",
       "      <td>Handlers-cleaners</td>\n",
       "      <td>Not-in-family</td>\n",
       "      <td>White</td>\n",
       "      <td>Male</td>\n",
       "      <td>0</td>\n",
       "      <td>0</td>\n",
       "      <td>40</td>\n",
       "      <td>United-States</td>\n",
       "      <td>&lt;=50K</td>\n",
       "    </tr>\n",
       "    <tr>\n",
       "      <th>3</th>\n",
       "      <td>53</td>\n",
       "      <td>Private</td>\n",
       "      <td>234721</td>\n",
       "      <td>11th</td>\n",
       "      <td>7</td>\n",
       "      <td>Married-civ-spouse</td>\n",
       "      <td>Handlers-cleaners</td>\n",
       "      <td>Husband</td>\n",
       "      <td>Black</td>\n",
       "      <td>Male</td>\n",
       "      <td>0</td>\n",
       "      <td>0</td>\n",
       "      <td>40</td>\n",
       "      <td>United-States</td>\n",
       "      <td>&lt;=50K</td>\n",
       "    </tr>\n",
       "    <tr>\n",
       "      <th>4</th>\n",
       "      <td>28</td>\n",
       "      <td>Private</td>\n",
       "      <td>338409</td>\n",
       "      <td>Bachelors</td>\n",
       "      <td>13</td>\n",
       "      <td>Married-civ-spouse</td>\n",
       "      <td>Prof-specialty</td>\n",
       "      <td>Wife</td>\n",
       "      <td>Black</td>\n",
       "      <td>Female</td>\n",
       "      <td>0</td>\n",
       "      <td>0</td>\n",
       "      <td>40</td>\n",
       "      <td>Cuba</td>\n",
       "      <td>&lt;=50K</td>\n",
       "    </tr>\n",
       "  </tbody>\n",
       "</table>\n",
       "</div>"
      ],
      "text/plain": [
       "   age         workclass  fnlwgt  education  education-num  \\\n",
       "0   39         State-gov   77516  Bachelors             13   \n",
       "1   50  Self-emp-not-inc   83311  Bachelors             13   \n",
       "2   38           Private  215646    HS-grad              9   \n",
       "3   53           Private  234721       11th              7   \n",
       "4   28           Private  338409  Bachelors             13   \n",
       "\n",
       "       marital-status         occupation   relationship   race     sex  \\\n",
       "0       Never-married       Adm-clerical  Not-in-family  White    Male   \n",
       "1  Married-civ-spouse    Exec-managerial        Husband  White    Male   \n",
       "2            Divorced  Handlers-cleaners  Not-in-family  White    Male   \n",
       "3  Married-civ-spouse  Handlers-cleaners        Husband  Black    Male   \n",
       "4  Married-civ-spouse     Prof-specialty           Wife  Black  Female   \n",
       "\n",
       "   capital-gain  capital-loss  hours-per-week native-country salary  \n",
       "0          2174             0              40  United-States  <=50K  \n",
       "1             0             0              13  United-States  <=50K  \n",
       "2             0             0              40  United-States  <=50K  \n",
       "3             0             0              40  United-States  <=50K  \n",
       "4             0             0              40           Cuba  <=50K  "
      ]
     },
     "execution_count": 53,
     "metadata": {},
     "output_type": "execute_result"
    }
   ],
   "source": [
    "import pandas as pd\n",
    "import numpy as np\n",
    "import math\n",
    "data = pd.read_csv('adult.data.csv')\n",
    "data.head(5)"
   ]
  },
  {
   "cell_type": "markdown",
   "metadata": {},
   "source": [
    "1.Сколько мужчин и женщин (признак sex) представлено в этом наборе данных?\n",
    "2. Каков средний возраст (признак age) женщин?\n",
    "3. Какова доля граждан Германии (признак native-country)?\n",
    "4-5. Каковы средние значения и среднеквадратичные отклонения возраста тех, кто получа\n",
    "ет более 50K в год (признак salary) и тех, кто получает менее 50K в год?\n",
    "6. Правда ли, что люди, которые получают больше 50k, имеют как минимум высшее образование? (признак education – Bachelors, Prof-school, Assoc-acdm, Assoc-voc, Masters или Doctorate)\n",
    "7. Выведите статистику возраста для каждой расы (признак race) и каждого пола. Используйте groupby и describe. Найдите таким образом максимальный возраст мужчин расы Amer-Indian-Eskimo.\n",
    "8. Среди кого больше доля зарабатывающих много (>50K): среди женатых или холостых мужчин (признак marital-status)? Женатыми считаем тех, у кого marital-status начинается с Married (Married-civ-spouse, Married-spouse-absent или Married-AF-spouse), остальных считаем холостыми.\n",
    "9. Какое максимальное число часов человек работает в неделю (признак hours-per-week)? Сколько людей работают такое количество часов и каков среди них процент зарабатывающих много?\n",
    "10. Посчитайте среднее время работы (hours-per-week) зарабатывающих мало и много (salary) для каждой страны (native-country)."
   ]
  },
  {
   "cell_type": "markdown",
   "metadata": {},
   "source": [
    "##### 1. Сколько мужчин и женщин (признак sex) представлено в этом наборе данных?"
   ]
  },
  {
   "cell_type": "markdown",
   "metadata": {},
   "source": [
    "###### Предварительный анализ DataFrame"
   ]
  },
  {
   "cell_type": "code",
   "execution_count": 3,
   "metadata": {},
   "outputs": [
    {
     "name": "stdout",
     "output_type": "stream",
     "text": [
      "Строк: 32561 Столбцов: 15\n"
     ]
    }
   ],
   "source": [
    "Data_Shape = data.shape # Получаем количество строк и столбцов в DataFrame\n",
    "print(\"Строк:\",Data_Shape[0], \"Столбцов:\", Data_Shape[1])"
   ]
  },
  {
   "cell_type": "code",
   "execution_count": 5,
   "metadata": {},
   "outputs": [
    {
     "name": "stdout",
     "output_type": "stream",
     "text": [
      "Количество мужчин: 21790\n",
      "Количество женщин: 10771\n"
     ]
    }
   ],
   "source": [
    "All_group = data.groupby('sex') # Груперовка по полю sex (пол)\n",
    "Male = All_group.get_group('Male') # Обращаемся к конкретной группе \n",
    "Female = All_group.get_group('Female') # Обращаемся к конкретной группе \n",
    "# Выводим на печать количество мужчин и женщин\n",
    "print (\"Количество мужчин:\", len(Male)) \n",
    "print (\"Количество женщин:\", len(Female))"
   ]
  },
  {
   "cell_type": "markdown",
   "metadata": {},
   "source": [
    "##### 2. Каков средний возраст (признак age) женщин?"
   ]
  },
  {
   "cell_type": "code",
   "execution_count": 21,
   "metadata": {},
   "outputs": [
    {
     "name": "stdout",
     "output_type": "stream",
     "text": [
      "Средний возраст женщин: 36.86\n"
     ]
    }
   ],
   "source": [
    "mean_age = data[(data['sex'] == 'Female')]['age'].mean() # Получайм средний возраст\n",
    "print(\"Средний возраст женщин:\", round(mean_age, 2)) # Выводим средний возраст, округленный до 2-х символов после запятой"
   ]
  },
  {
   "cell_type": "markdown",
   "metadata": {},
   "source": [
    "##### 3. Какова доля граждан Германии (признак native-country)?"
   ]
  },
  {
   "cell_type": "code",
   "execution_count": 15,
   "metadata": {},
   "outputs": [
    {
     "name": "stdout",
     "output_type": "stream",
     "text": [
      "Количество граждан Германии: 137 , что составляет 0.42%\n"
     ]
    }
   ],
   "source": [
    "germany_count = data[data['native-country'] == 'Germany']['native-country'].count() # Подсчет количества записей\n",
    "germany_percentage = germany_count / Data_Shape[0]\n",
    "print(\"Количество граждан Германии:\",germany_count,\", что составляет\", str(round(germany_percentage * 100, 2)) + \"%\")"
   ]
  },
  {
   "cell_type": "markdown",
   "metadata": {},
   "source": [
    "##### 4-5. Каковы средние значения и среднеквадратичные отклонения возраста тех, кто получа ет более 50K в год (признак salary) и тех, кто получает менее 50K в год?"
   ]
  },
  {
   "cell_type": "code",
   "execution_count": 26,
   "metadata": {},
   "outputs": [
    {
     "name": "stdout",
     "output_type": "stream",
     "text": [
      "Средний возраст получающих более 50К:\t 44.25\n",
      "Среднеквадратичное отклонение:\t\t 10.52\n",
      "Средний возраст получающих менее 50К:\t 36.78\n",
      "Среднеквадратичное отклонение:\t\t 14.02\n"
     ]
    }
   ],
   "source": [
    "rich_mean = data[data['salary'] == '>50K']['age'].mean()\n",
    "poor_mean = data[data['salary'] == '<=50K']['age'].mean()\n",
    "\n",
    "rich_std = data[data['salary'] == '>50K']['age'].std()\n",
    "poor_std = data[data['salary'] == '<=50K']['age'].std()\n",
    "\n",
    "print('Средний возраст получающих более 50К:\\t', round(rich_mean, 2))\n",
    "print('Среднеквадратичное отклонение:\\t\\t', round(rich_std, 2))\n",
    "print('Средний возраст получающих менее 50К:\\t', round(poor_mean, 2))\n",
    "print('Среднеквадратичное отклонение:\\t\\t', round(poor_std, 2))"
   ]
  },
  {
   "cell_type": "markdown",
   "metadata": {},
   "source": [
    "##### 4. Правда ли, что люди, которые получают больше 50k, имеют как минимум высшее образование? (признак education – Bachelors, Prof-school, Assoc-acdm, Assoc-voc, Masters или Doctorate)"
   ]
  },
  {
   "cell_type": "code",
   "execution_count": 123,
   "metadata": {},
   "outputs": [
    {
     "name": "stdout",
     "output_type": "stream",
     "text": [
      "Общее количество получающих > 50К:\t 7841\n",
      "Из них имеют высшее образование:\t 4174\n",
      "Из них НЕ имеют высшего образования:\t 3667\n",
      "**************************************************\n",
      "Утверждение ВЕРНО - 53.23% имеют высшее образование\n"
     ]
    }
   ],
   "source": [
    "# Задаем список признаков высшего образования\n",
    "higher_education_sign = ['Bachelors', 'Prof-school', 'Assoc-acdm', 'Masters', 'Doctorate'] \n",
    "\n",
    "# Получаем количество ВСЕХ людей, имеющих высшее образование\n",
    "higher_edu = data[data['salary'] == '>50K']['education'].count()\n",
    "\n",
    "# Получаем количество людей, имеющих высшее образование и получающие больше 50К\n",
    "higher_edu_rich = data[data['education'].isin(higher_education_sign) & (data['salary'] == '>50K')]['education'].count()\n",
    "\n",
    "print(\"Общее количество получающих > 50К:\\t\", higher_edu)\n",
    "print(\"Из них имеют высшее образование:\\t\",higher_edu_rich)\n",
    "print(\"Из них НЕ имеют высшего образования:\\t\",higher_edu - higher_edu_rich)\n",
    "print(\"*\"*50 )\n",
    "if higher_edu_rich > higher_edu - higher_edu_rich:\n",
    "#     print (\"Утверждение ВЕРНО -\", str(round((higher_edu_rich * 100)/ higher_edu, 2))+\"%\", \"имеют высшее образование\")\n",
    "    print (\"Утверждение ВЕРНО -\", str(round((higher_edu_rich * 100)/ higher_edu, 2))+\"%\", \"имеют высшее образование\")\n",
    "else:    \n",
    "    print (\"Утверждение НЕ ВЕРНО\")"
   ]
  },
  {
   "cell_type": "markdown",
   "metadata": {},
   "source": [
    "##### 5. Выведите статистику возраста для каждой расы (признак race) и каждого пола. Используйте groupby и describe. Найдите таким образом максимальный возраст мужчин расы Amer-Indian-Eskimo."
   ]
  },
  {
   "cell_type": "code",
   "execution_count": 6,
   "metadata": {},
   "outputs": [
    {
     "name": "stdout",
     "output_type": "stream",
     "text": [
      "Присутствие расс в выборке\n",
      "White  -  27816\n",
      "Black  -  3124\n",
      "Asian-Pac-Islander  -  1039\n",
      "Amer-Indian-Eskimo  -  311\n",
      "Other  -  271\n",
      "**************************************************\n",
      "Средний возраст по рассам\n",
      "White  -  38.77\n",
      "Black  -  37.77\n",
      "Asian-Pac-Islander  -  37.75\n",
      "Amer-Indian-Eskimo  -  37.17\n",
      "Other  -  33.46\n",
      "**************************************************\n",
      "Соотношение полов и среднего возраста по полам в рассах\n",
      "White - Мужчины:19174 (39.65) / Женщины:8642 (36.81)\n",
      "Black - Мужчины:1569 (37.68) / Женщины:1555 (37.85)\n",
      "Asian-Pac-Islander - Мужчины:693 (39.07) / Женщины:346 (35.09)\n",
      "Amer-Indian-Eskimo - Мужчины:192 (37.21) / Женщины:119 (37.12)\n",
      "Other - Мужчины:162 (34.65) / Женщины:109 (31.68)\n",
      "**************************************************\n",
      "Максимальный возраст мужчин расы Amer-Indian-Eskimo: 82\n"
     ]
    }
   ],
   "source": [
    "# Группировка по полю Раса\n",
    "race_stat = data.groupby('race')\n",
    "# Получаем уникальные значения по полю Расса - необходимо для перебора\n",
    "u_race = data['race'].unique()\n",
    "\n",
    "print(\"Присутствие расс в выборке\")\n",
    "\n",
    "for one_race in u_race:\n",
    "    race_group = race_stat.get_group(one_race)    \n",
    "    print(one_race, \" - \" , race_group['race'].count())\n",
    "print(\"*\"*50 )    \n",
    "print(\"Средний возраст по рассам\")\n",
    "\n",
    "for age_race in u_race:\n",
    "    race_group = race_stat.get_group(age_race)\n",
    "    mean_age = data[data['race'] == age_race]['age'].mean()\n",
    "    print (age_race, \" - \" ,round(mean_age, 2))\n",
    "print(\"*\"*50 )\n",
    "print(\"Соотношение полов и среднего возраста по полам в рассах\")\n",
    "\n",
    "for sex_race in u_race:\n",
    "    race_group = race_stat.get_group(sex_race)\n",
    "    rase_male = data[(data['race'] == sex_race) & (data['sex'] == 'Male')]['sex'].count()\n",
    "    rase_female = data[(data['race'] == sex_race) & (data['sex'] == 'Female')]['sex'].count()\n",
    "    \n",
    "    age_male = data[(data['race'] == sex_race) & (data['sex'] == 'Male')]['age'].mean()\n",
    "    age_female = data[(data['race'] == sex_race) & (data['sex'] == 'Female')]['age'].mean()\n",
    "    \n",
    "    print(\"{} - Мужчины:{} ({}) / Женщины:{} ({})\".format(sex_race,rase_male,round(age_male, 2),rase_female,round(age_female, 2)))\n",
    "print(\"*\"*50 )\n",
    "\n",
    "max_eskimo = data[(data['race'] == 'Amer-Indian-Eskimo') & (data['sex'] == 'Male')]['age'].max()\n",
    "print(\"Максимальный возраст мужчин расы Amer-Indian-Eskimo:\", max_eskimo)\n",
    "\n",
    "\n",
    "    \n"
   ]
  },
  {
   "cell_type": "markdown",
   "metadata": {},
   "source": [
    "##### 6. Среди кого больше доля зарабатывающих много (>50K): среди женатых или холостых мужчин (признак marital-status)? Женатыми считаем тех, у кого marital-status начинается с Married (Married-civ-spouse, Married-spouse-absent или Married-AF-spouse), остальных считаем холостыми."
   ]
  },
  {
   "cell_type": "code",
   "execution_count": 67,
   "metadata": {},
   "outputs": [
    {
     "name": "stdout",
     "output_type": "stream",
     "text": [
      "Доля зарабатывающих много среди женатых: 85.91%\n",
      "Доля зарабатывающих много среди холостых: 14.09%\n"
     ]
    }
   ],
   "source": [
    "# Получаем уникальные значения по полю семейное положение\n",
    "m_plus = [] # Коллекция значений, соответствующих женатым\n",
    "m_status = data['marital-status'].unique()\n",
    "# Заполняем коллекцию\n",
    "for k in m_status:\n",
    "    if k[:4] == 'Marr':\n",
    "        m_plus.append(k)\n",
    "# Считаем всех богательниких        \n",
    "all_rich = data[data['salary'] == '>50K']['sex'].count()        \n",
    "# Считаем богатеньких + женатых\n",
    "married_rich = data[(data['salary'] == '>50K') & (data['marital-status'].isin(m_plus))]['sex'].count()\n",
    "\n",
    "print(\"Доля зарабатывающих много среди женатых: {:.2%}\".format((married_rich)/all_rich))\n",
    "print(\"Доля зарабатывающих много среди холостых: {:.2%}\".format((all_rich-married_rich)/all_rich))\n"
   ]
  },
  {
   "cell_type": "markdown",
   "metadata": {},
   "source": [
    "##### 7. Какое максимальное число часов человек работает в неделю (признак hours-per-week)? Сколько людей работают такое количество часов и каков среди них процент зарабатывающих много?"
   ]
  },
  {
   "cell_type": "code",
   "execution_count": 18,
   "metadata": {},
   "outputs": [
    {
     "name": "stdout",
     "output_type": "stream",
     "text": [
      "Максимальное число рабочих часов в неделю: 99\n",
      "85 человек работают столько часов в неделю\n",
      "29.41% из этих людей зарабатывают больше 50K\n"
     ]
    }
   ],
   "source": [
    "# Получаем максималльное количество рабочих часов\n",
    "max_hours_per_week = data['hours-per-week'].max()\n",
    "print(\"Максимальное число рабочих часов в неделю:\", max_hours_per_week)\n",
    "# Получаем количество людей, которые столько работают\n",
    "work_top_counter = data[data['hours-per-week'] == max_hours_per_week]['hours-per-week'].count()\n",
    "print(work_top_counter, 'человек работают столько часов в неделю')\n",
    "# Получаем процент богатых людей из работающих много\n",
    "work_top_counter_rich = data[(data['hours-per-week'] == max_hours_per_week) & (data['salary'] == '>50K')]['hours-per-week'].count()\n",
    "print(\"{:.2%} из этих людей зарабатывают больше 50K\".format(work_top_counter_rich/work_top_counter))"
   ]
  },
  {
   "cell_type": "markdown",
   "metadata": {},
   "source": [
    "##### 8. Посчитайте среднее время работы (hours-per-week) зарабатывающих мало и много (salary) для каждой страны (native-country)."
   ]
  },
  {
   "cell_type": "code",
   "execution_count": 55,
   "metadata": {},
   "outputs": [
    {
     "name": "stdout",
     "output_type": "stream",
     "text": [
      ">>>United-States<<<\n",
      "Богатые работают в среднем 46.0 часов\n",
      "Бедные работают в среднем 39.0 часов\n",
      "**************************************************\n",
      ">>>Cuba<<<\n",
      "Богатые работают в среднем 42.0 часов\n",
      "Бедные работают в среднем 38.0 часов\n",
      "**************************************************\n",
      ">>>Jamaica<<<\n",
      "Богатые работают в среднем 41.0 часов\n",
      "Бедные работают в среднем 38.0 часов\n",
      "**************************************************\n",
      ">>>India<<<\n",
      "Богатые работают в среднем 46.0 часов\n",
      "Бедные работают в среднем 38.0 часов\n",
      "**************************************************\n",
      ">>>Mexico<<<\n",
      "Богатые работают в среднем 47.0 часов\n",
      "Бедные работают в среднем 40.0 часов\n",
      "**************************************************\n",
      ">>>South<<<\n",
      "Богатые работают в среднем 51.0 часов\n",
      "Бедные работают в среднем 40.0 часов\n",
      "**************************************************\n",
      ">>>Puerto-Rico<<<\n",
      "Богатые работают в среднем 39.0 часов\n",
      "Бедные работают в среднем 38.0 часов\n",
      "**************************************************\n",
      ">>>Honduras<<<\n",
      "Богатые работают в среднем 60.0 часов\n",
      "Бедные работают в среднем 34.0 часов\n",
      "**************************************************\n",
      ">>>England<<<\n",
      "Богатые работают в среднем 45.0 часов\n",
      "Бедные работают в среднем 40.0 часов\n",
      "**************************************************\n",
      ">>>Canada<<<\n",
      "Богатые работают в среднем 46.0 часов\n",
      "Бедные работают в среднем 38.0 часов\n",
      "**************************************************\n",
      ">>>Germany<<<\n",
      "Богатые работают в среднем 45.0 часов\n",
      "Бедные работают в среднем 39.0 часов\n",
      "**************************************************\n",
      ">>>Iran<<<\n",
      "Богатые работают в среднем 48.0 часов\n",
      "Бедные работают в среднем 41.0 часов\n",
      "**************************************************\n",
      ">>>Philippines<<<\n",
      "Богатые работают в среднем 43.0 часов\n",
      "Бедные работают в среднем 38.0 часов\n",
      "**************************************************\n",
      ">>>Italy<<<\n",
      "Богатые работают в среднем 45.0 часов\n",
      "Бедные работают в среднем 40.0 часов\n",
      "**************************************************\n",
      ">>>Poland<<<\n",
      "Богатые работают в среднем 39.0 часов\n",
      "Бедные работают в среднем 38.0 часов\n",
      "**************************************************\n",
      ">>>Columbia<<<\n",
      "Богатые работают в среднем 50.0 часов\n",
      "Бедные работают в среднем 39.0 часов\n",
      "**************************************************\n",
      ">>>Cambodia<<<\n",
      "Богатые работают в среднем 40.0 часов\n",
      "Бедные работают в среднем 41.0 часов\n",
      "**************************************************\n",
      ">>>Thailand<<<\n",
      "Богатые работают в среднем 58.0 часов\n",
      "Бедные работают в среднем 43.0 часов\n",
      "**************************************************\n",
      ">>>Ecuador<<<\n",
      "Богатые работают в среднем 49.0 часов\n",
      "Бедные работают в среднем 38.0 часов\n",
      "**************************************************\n",
      ">>>Laos<<<\n",
      "Богатые работают в среднем 40.0 часов\n",
      "Бедные работают в среднем 40.0 часов\n",
      "**************************************************\n",
      ">>>Taiwan<<<\n",
      "Богатые работают в среднем 47.0 часов\n",
      "Бедные работают в среднем 34.0 часов\n",
      "**************************************************\n",
      ">>>Haiti<<<\n",
      "Богатые работают в среднем 43.0 часов\n",
      "Бедные работают в среднем 36.0 часов\n",
      "**************************************************\n",
      ">>>Portugal<<<\n",
      "Богатые работают в среднем 42.0 часов\n",
      "Бедные работают в среднем 42.0 часов\n",
      "**************************************************\n",
      ">>>Dominican-Republic<<<\n",
      "Богатые работают в среднем 47.0 часов\n",
      "Бедные работают в среднем 42.0 часов\n",
      "**************************************************\n",
      ">>>El-Salvador<<<\n",
      "Богатые работают в среднем 45.0 часов\n",
      "Бедные работают в среднем 36.0 часов\n",
      "**************************************************\n",
      ">>>France<<<\n",
      "Богатые работают в среднем 51.0 часов\n",
      "Бедные работают в среднем 41.0 часов\n",
      "**************************************************\n",
      ">>>Guatemala<<<\n",
      "Богатые работают в среднем 37.0 часов\n",
      "Бедные работают в среднем 39.0 часов\n",
      "**************************************************\n",
      ">>>China<<<\n",
      "Богатые работают в среднем 39.0 часов\n",
      "Бедные работают в среднем 37.0 часов\n",
      "**************************************************\n",
      ">>>Japan<<<\n",
      "Богатые работают в среднем 48.0 часов\n",
      "Бедные работают в среднем 41.0 часов\n",
      "**************************************************\n",
      ">>>Yugoslavia<<<\n",
      "Богатые работают в среднем 50.0 часов\n",
      "Бедные работают в среднем 42.0 часов\n",
      "**************************************************\n",
      ">>>Peru<<<\n",
      "Богатые работают в среднем 40.0 часов\n",
      "Бедные работают в среднем 35.0 часов\n",
      "**************************************************\n",
      ">>>Outlying-US(Guam-USVI-etc)<<<\n",
      "Бедные работают в среднем 42.0 часов\n",
      "**************************************************\n",
      ">>>Scotland<<<\n",
      "Богатые работают в среднем 47.0 часов\n",
      "Бедные работают в среднем 39.0 часов\n",
      "**************************************************\n",
      ">>>Trinadad&Tobago<<<\n",
      "Богатые работают в среднем 40.0 часов\n",
      "Бедные работают в среднем 37.0 часов\n",
      "**************************************************\n",
      ">>>Greece<<<\n",
      "Богатые работают в среднем 51.0 часов\n",
      "Бедные работают в среднем 42.0 часов\n",
      "**************************************************\n",
      ">>>Nicaragua<<<\n",
      "Богатые работают в среднем 38.0 часов\n",
      "Бедные работают в среднем 36.0 часов\n",
      "**************************************************\n",
      ">>>Vietnam<<<\n",
      "Богатые работают в среднем 39.0 часов\n",
      "Бедные работают в среднем 37.0 часов\n",
      "**************************************************\n",
      ">>>Hong<<<\n",
      "Богатые работают в среднем 45.0 часов\n",
      "Бедные работают в среднем 39.0 часов\n",
      "**************************************************\n",
      ">>>Ireland<<<\n",
      "Богатые работают в среднем 48.0 часов\n",
      "Бедные работают в среднем 41.0 часов\n",
      "**************************************************\n",
      ">>>Hungary<<<\n",
      "Богатые работают в среднем 50.0 часов\n",
      "Бедные работают в среднем 31.0 часов\n",
      "**************************************************\n",
      ">>>Holand-Netherlands<<<\n",
      "Бедные работают в среднем 40.0 часов\n",
      "**************************************************\n"
     ]
    }
   ],
   "source": [
    "# Групируем людей по странам\n",
    "country_worker = data.groupby('native-country')\n",
    "# Получаем уникальные значения по полю родная страна - необходимо для перебора\n",
    "countries = data['native-country'].unique()\n",
    "for country in countries:\n",
    "    if country != '?':\n",
    "        rich = data[(data['native-country'] == country) & (data['salary'] == '>50K')]['hours-per-week'].mean()\n",
    "        poor = data[(data['native-country'] == country) & (data['salary'] == '<=50K')]['hours-per-week'].mean()\n",
    "        print(\">>>\"+country+\"<<<\")\n",
    "        # Здесь проверяем - является ли выборка числом а не NaN\n",
    "        if not math.isnan(rich):\n",
    "            print(\"Богатые работают в среднем\", round(rich),\"часов\")\n",
    "        if not math.isnan(poor):        \n",
    "            print(\"Бедные работают в среднем\", round(poor),\"часов\")\n",
    "        print(\"*\"*50 )\n",
    "    else:\n",
    "        continue\n",
    "\n"
   ]
  }
 ],
 "metadata": {
  "kernelspec": {
   "display_name": "Python 3",
   "language": "python",
   "name": "python3"
  },
  "language_info": {
   "codemirror_mode": {
    "name": "ipython",
    "version": 3
   },
   "file_extension": ".py",
   "mimetype": "text/x-python",
   "name": "python",
   "nbconvert_exporter": "python",
   "pygments_lexer": "ipython3",
   "version": "3.8.1"
  }
 },
 "nbformat": 4,
 "nbformat_minor": 2
}
